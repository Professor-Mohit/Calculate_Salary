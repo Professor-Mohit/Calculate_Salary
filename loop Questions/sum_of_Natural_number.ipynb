{
 "cells": [
  {
   "cell_type": "markdown",
   "metadata": {},
   "source": [
    "Sum of n Natural number"
   ]
  },
  {
   "cell_type": "code",
   "execution_count": null,
   "metadata": {},
   "outputs": [],
   "source": [
    "# print of sum n natural numbers\n",
    "num = 1\n",
    "N = int(input()) #user input\n",
    "s = 0 #this will store our final sum\n",
    "\n",
    "while num <= N:\n",
    "    # continiuos progression s being incremet and also n\n",
    "    print(s, num)\n",
    "    s += num # whatever is current natural number, add to s.\n",
    "    num += 1 # Moved to the next natural number\n",
    "    #loops end print(s)\n",
    "print(s)"
   ]
  }
 ],
 "metadata": {
  "language_info": {
   "name": "python"
  }
 },
 "nbformat": 4,
 "nbformat_minor": 2
}
