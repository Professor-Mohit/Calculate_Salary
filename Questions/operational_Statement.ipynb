{
 "cells": [
  {
   "cell_type": "markdown",
   "metadata": {},
   "source": [
    "Math Operators"
   ]
  },
  {
   "cell_type": "code",
   "execution_count": 6,
   "metadata": {},
   "outputs": [
    {
     "name": "stdout",
     "output_type": "stream",
     "text": [
      "0\n"
     ]
    }
   ],
   "source": [
    "num1 = int(input(\"Num1\"))\n",
    "num2 = int(input(\"Num2\"))\n",
    "\n",
    "operation = input(\"Choose one of the following operator - + * - / % : \")\n",
    "\n",
    "match operation:\n",
    "    \n",
    "    case \"+\":\n",
    "        result = num1 + num2\n",
    "        print(result)\n",
    "    case \"-\":\n",
    "        result = num1 - num2\n",
    "        print(result)\n",
    "    case \"*\":\n",
    "        result = num1 * num2\n",
    "        print(result)\n",
    "    case \"/\":\n",
    "        if num2 == 0:\n",
    "            print(\"Invalid\")\n",
    "        else:\n",
    "            result = num1 / num2\n",
    "            print(result)\n",
    "         \n",
    "    case \"%\":\n",
    "        if num2 == 0:\n",
    "            print(\"Invalid\")\n",
    "        else:\n",
    "            result = num1 % num2\n",
    "            print(result)\n",
    "\n",
    "    case _:\n",
    "        print(\"invalid operator\")\n",
    "\n",
    "    "
   ]
  }
 ],
 "metadata": {
  "kernelspec": {
   "display_name": "Python 3",
   "language": "python",
   "name": "python3"
  },
  "language_info": {
   "codemirror_mode": {
    "name": "ipython",
    "version": 3
   },
   "file_extension": ".py",
   "mimetype": "text/x-python",
   "name": "python",
   "nbconvert_exporter": "python",
   "pygments_lexer": "ipython3",
   "version": "3.12.4"
  }
 },
 "nbformat": 4,
 "nbformat_minor": 2
}
