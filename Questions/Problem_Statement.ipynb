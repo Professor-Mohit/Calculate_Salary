{
 "cells": [
  {
   "cell_type": "markdown",
   "metadata": {},
   "source": [
    "You and your friends are having a cookie-baking party, and you want to ensure that each person gets an equal share of cookies. You have a total number of cookies baked, and you need to divide them equally among your friends.\n",
    "Note:\n",
    "1. Ask the user to input the total number of cookies baked.\n",
    "2. Ask the user to input the number of friends present.\n",
    "3. Calculate how many cookies each friend will get if the cookies are divided equally among them.\n",
    "4. Print the total number of cookies each friend will get."
   ]
  },
  {
   "cell_type": "code",
   "execution_count": 1,
   "metadata": {},
   "outputs": [
    {
     "name": "stdout",
     "output_type": "stream",
     "text": [
      "2\n"
     ]
    }
   ],
   "source": [
    "cookies = int(input())\n",
    "friends = int(input())\n",
    "print(cookies // friends)"
   ]
  }
 ],
 "metadata": {
  "kernelspec": {
   "display_name": "Python 3",
   "language": "python",
   "name": "python3"
  },
  "language_info": {
   "codemirror_mode": {
    "name": "ipython",
    "version": 3
   },
   "file_extension": ".py",
   "mimetype": "text/x-python",
   "name": "python",
   "nbconvert_exporter": "python",
   "pygments_lexer": "ipython3",
   "version": "3.12.4"
  }
 },
 "nbformat": 4,
 "nbformat_minor": 2
}
