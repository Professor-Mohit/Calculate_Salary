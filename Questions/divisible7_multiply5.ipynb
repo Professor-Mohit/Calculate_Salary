{
 "cells": [
  {
   "cell_type": "markdown",
   "metadata": {},
   "source": [
    "Write a Python program to find those numbers which are divisible by 7 and multiples of 5, between 1500 and 2700 (both included)."
   ]
  },
  {
   "cell_type": "code",
   "execution_count": 36,
   "metadata": {},
   "outputs": [],
   "source": [
    "# num = 1\n",
    "# while num <= 50:\n",
    "#     print(num)\n",
    "#     num += 1 \n",
    "# # print(\"end\")\n",
    "\n",
    "\n",
    "int(input())\n",
    "while num <= 50:\n",
    "    print(num)\n",
    "    num *= 1"
   ]
  }
 ],
 "metadata": {
  "kernelspec": {
   "display_name": "Python 3",
   "language": "python",
   "name": "python3"
  },
  "language_info": {
   "codemirror_mode": {
    "name": "ipython",
    "version": 3
   },
   "file_extension": ".py",
   "mimetype": "text/x-python",
   "name": "python",
   "nbconvert_exporter": "python",
   "pygments_lexer": "ipython3",
   "version": "3.12.4"
  }
 },
 "nbformat": 4,
 "nbformat_minor": 2
}
