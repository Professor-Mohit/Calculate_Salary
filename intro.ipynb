{
 "cells": [
  {
   "cell_type": "markdown",
   "metadata": {},
   "source": [
    "Wite a program to calculate the total salary of a person. The user has enter the basic salary (an integer) and the grade (an upperCase character), depending upon which the total salary is calculated as:\n",
    "where :\n",
    "HRA = 20% of Basic\n",
    "DA = 50% of Basic\n",
    "Allow = 1700 if grade is ‘A’\n",
    "Allow = 1500 if grade is ‘B’\n",
    "Allow = 1300 if grade is ‘C’ or any other character\n",
    "PF = 11% of Basic\n",
    "Total Salary = Basic + HRA + DA + Allowance – PF"
   ]
  },
  {
   "cell_type": "code",
   "execution_count": 3,
   "metadata": {},
   "outputs": [
    {
     "name": "stdout",
     "output_type": "stream",
     "text": [
      "2890.0\n"
     ]
    }
   ],
   "source": [
    "\n",
    "Basic = int(input(\"Enter the basic salary: \"))\n",
    "Grade = input(\"Enter the grade: \")\n",
    "HRA = Basic * 0.2\n",
    "DA = Basic * 0.5\n",
    "Allow = 0\n",
    "PF = Basic * 0.11\n",
    "if Grade == 'A':\n",
    "  Allow = 1700\n",
    "elif Grade == 'B':\n",
    "  Allow = 1500\n",
    "elif Grade == 'C':\n",
    "  Allow = 1300\n",
    "# else:\n",
    "#   Allow = 0\n",
    "Total_salary = Basic + HRA + DA + Allow - PF\n",
    "print(Total_salary)"
   ]
  }
 ],
 "metadata": {
  "kernelspec": {
   "display_name": "Python 3",
   "language": "python",
   "name": "python3"
  },
  "language_info": {
   "codemirror_mode": {
    "name": "ipython",
    "version": 3
   },
   "file_extension": ".py",
   "mimetype": "text/x-python",
   "name": "python",
   "nbconvert_exporter": "python",
   "pygments_lexer": "ipython3",
   "version": "3.12.4"
  }
 },
 "nbformat": 4,
 "nbformat_minor": 2
}
